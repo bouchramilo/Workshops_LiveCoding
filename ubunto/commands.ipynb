{
 "cells": [
  {
   "cell_type": "markdown",
   "id": "69374be1",
   "metadata": {},
   "source": [
    "# zip"
   ]
  },
  {
   "cell_type": "markdown",
   "id": "a13ae3e9",
   "metadata": {},
   "source": [
    "La commande zip sous Linux permet de compresser des fichiers ou dossiers dans une archive .zip."
   ]
  },
  {
   "cell_type": "markdown",
   "id": "1afb47e8",
   "metadata": {},
   "source": [
    "`zip [options] nom_archive.zip fichiers_ou_dossiers`"
   ]
  },
  {
   "cell_type": "markdown",
   "id": "d87d0651",
   "metadata": {},
   "source": [
    "- 1 : Compresser un seul fichier : "
   ]
  },
  {
   "cell_type": "markdown",
   "id": "f019fbfa",
   "metadata": {},
   "source": [
    "`zip archive.zip fichier.txt`"
   ]
  },
  {
   "cell_type": "markdown",
   "id": "40a9e187",
   "metadata": {},
   "source": [
    "- 2 : Compresser plusieurs fichiers :\n",
    "\n",
    "`zip archive.zip fichier1.txt fichier2.txt fichier3.txt`"
   ]
  },
  {
   "cell_type": "markdown",
   "id": "7c521703",
   "metadata": {},
   "source": []
  },
  {
   "cell_type": "markdown",
   "id": "69703863",
   "metadata": {},
   "source": [
    "- 3 : Compresser un dossier entier (avec récursivité) :\n",
    "\n",
    "`zip -r archive.zip mon_dossier/`"
   ]
  },
  {
   "cell_type": "markdown",
   "id": "b9897564",
   "metadata": {},
   "source": [
    "- Options courantes :\n",
    "\n",
    "-r → compression récursive (pour les dossiers).\n",
    "\n",
    "-e → crypter l’archive avec mot de passe.\n",
    "\n",
    "-9 → meilleure compression (niveau max).\n",
    "\n",
    "-q → mode silencieux (pas d’affichage des détails).\n",
    "\n",
    "-u → mettre à jour l’archive avec de nouveaux fichiers.\n",
    "\n",
    "-d → supprimer un fichier d’une archive existante."
   ]
  },
  {
   "cell_type": "markdown",
   "id": "6d5334b7",
   "metadata": {},
   "source": [
    "# unzip"
   ]
  },
  {
   "cell_type": "markdown",
   "id": "6289d5f1",
   "metadata": {},
   "source": [
    "`unzip [options] nom_archive.zip [fichiers] -d dossier_destination`"
   ]
  },
  {
   "cell_type": "markdown",
   "id": "ecee2d39",
   "metadata": {},
   "source": [
    "- 1 : Décompresser une archive dans le dossier courant :\n",
    "\n",
    "``unzip archive.zip``\n"
   ]
  },
  {
   "cell_type": "markdown",
   "id": "8fb5dec2",
   "metadata": {},
   "source": [
    "- 2 : Décompresser dans un dossier précis :\n",
    "\n",
    "`unzip archive.zip -d /chemin/vers/dossier/`"
   ]
  },
  {
   "cell_type": "markdown",
   "id": "46c62403",
   "metadata": {},
   "source": [
    "- 3 : Lister le contenu d’une archive sans l’extraire :\n",
    "\n",
    "`unzip -l archive.zip`"
   ]
  },
  {
   "cell_type": "markdown",
   "id": "7636550e",
   "metadata": {},
   "source": [
    "- 4 : tester l'archive : \n",
    "\n",
    "`unzip -t archive.zip`"
   ]
  },
  {
   "cell_type": "markdown",
   "id": "9310d770",
   "metadata": {},
   "source": [
    "- 5 : Extraire uniquement certains fichiers :\n",
    "\n",
    "`unzip archive.zip fichier1.txt fichier2.txt`"
   ]
  },
  {
   "cell_type": "markdown",
   "id": "bc9fdb4e",
   "metadata": {},
   "source": [
    "- Options utiles :\n",
    "\n",
    "-d <dir> → définir le dossier de destination.\n",
    "\n",
    "-l → lister le contenu sans extraction.\n",
    "\n",
    "-t → tester l’archive.\n",
    "\n",
    "-o → écraser les fichiers existants sans demander confirmation.\n",
    "\n",
    "-n → ne pas écraser les fichiers existants.\n",
    "\n",
    "-q → mode silencieux (pas de messages)."
   ]
  },
  {
   "attachments": {
    "image.png": {
     "image/png": "[encoded data removed]"
    }
   },
   "cell_type": "markdown",
   "id": "211f6b76",
   "metadata": {},
   "source": [
    "## Challenge 1 :\n",
    "Crée une structure hiérarchique comme suit :\n",
    "\n",
    "![image.png](attachment:image.png)\n",
    " 1. Remplis chaque fichier avec un peu de contenu (ex : ”Ceci est le README” dans\n",
    " README.txt, etc.).\n",
    " 2. D´eplace le fichier input.txt vers le dossier docs. Affiche l’arborescence finale avec tree.\n",
    " 3. Renomme le dossier src en scripts.\n",
    " 4. Supprime le dossier data et tout son contenu."
   ]
  },
  {
   "cell_type": "markdown",
   "id": "afbb2abe",
   "metadata": {},
   "source": [
    "### ✅ Correction : "
   ]
  },
  {
   "cell_type": "markdown",
   "id": "d83a059a",
   "metadata": {},
   "source": [
    "Créer le doc \"projet\" : \n",
    "\n",
    "`touch projet`"
   ]
  },
  {
   "cell_type": "markdown",
   "id": "7aef465e",
   "metadata": {},
   "source": [
    "`cd projet`"
   ]
  },
  {
   "cell_type": "markdown",
   "id": "f7f930ae",
   "metadata": {},
   "source": [
    "creer les trois dossiers : \n",
    "\n",
    "`mkdir docs src data`"
   ]
  },
  {
   "cell_type": "markdown",
   "id": "6c357273",
   "metadata": {},
   "source": [
    "créer les fichier entre les dossiers : \n",
    "\n",
    "`touch docs/README.txt src/main.sh data/input.txt`"
   ]
  },
  {
   "cell_type": "markdown",
   "id": "9390e5f7",
   "metadata": {},
   "source": [
    "1. Remplir les fichier aevc un contenu : "
   ]
  },
  {
   "cell_type": "markdown",
   "id": "2d78949b",
   "metadata": {},
   "source": [
    "`vi src/main.sh`\n",
    "\n",
    "puis on tape i (pour activer le mode d'insertion) , et pui on tape le text \"Ceci est le main.sh\".\n",
    "puis on click sur le button échap et on tape la commande `:wq`"
   ]
  },
  {
   "cell_type": "markdown",
   "id": "909dccf3",
   "metadata": {},
   "source": [
    "2. D´eplace le fichier input.txt vers le dossier docs.\n",
    "\n",
    "`mv data/input.txt docs/`"
   ]
  },
  {
   "attachments": {
    "image.png": {
     "image/png": "[encoded data removed]"
    }
   },
   "cell_type": "markdown",
   "id": "4a24e9e3",
   "metadata": {},
   "source": [
    "* Affiche l’arborescence finale avec tree : \n",
    "\n",
    "`tree`\n",
    "\n",
    "![image.png](attachment:image.png)"
   ]
  },
  {
   "cell_type": "markdown",
   "id": "24642fba",
   "metadata": {},
   "source": []
  },
  {
   "cell_type": "markdown",
   "id": "66b6cd5f",
   "metadata": {},
   "source": [
    "3. Renomme le dossier src en scripts : \n",
    "\n",
    "`mv src scripts`\n"
   ]
  },
  {
   "cell_type": "markdown",
   "id": "ea8ecd4e",
   "metadata": {},
   "source": [
    "4. Supprime le dossier data et tout son contenu : \n",
    "\n",
    "`rm -d data`"
   ]
  },
  {
   "cell_type": "markdown",
   "id": "1becc679",
   "metadata": {},
   "source": [
    "pour supprimer un dossier non vide on utilise l'option \"-r\" (r-récursif) ou \"-rf\" pour (r-récursif & f-force)\n",
    "\n",
    "`rm -r data`"
   ]
  },
  {
   "cell_type": "markdown",
   "id": "826d3b02",
   "metadata": {},
   "source": [
    "## Challenge 2 :"
   ]
  },
  {
   "attachments": {
    "image.png": {
     "image/png": "[encoded data removed]"
    }
   },
   "cell_type": "markdown",
   "id": "4d83cc27",
   "metadata": {},
   "source": [
    "Tu es administrateur d’un petit serveur. Ton coll`egue a laiss´e des fichiers\n",
    " d´esorganis´es dans son dossier personnel user backup. Tu dois :\n",
    " — Organiser les fichiers.\n",
    " — Sauvegarder les importants.\n",
    " — Supprimer les inutiles.\n",
    " — Compresser les ´el´ements critiques pour archivage ou transfert.\n",
    " Cr´ee un dossier nomm´e user backup et a l’int´erieur, cr´ee les dossiers suivants :\n",
    "\n",
    "![image.png](attachment:image.png)\n",
    "\n",
    "1. Dans user backup, cr´ee les fichiers suivants : todo.txt, note1.txt, brouillon.txt, test1.log,\n",
    " test2.log.\n",
    " 2. D´eplace todo.txt et note1.txt vers important.\n",
    " 3. D´eplace brouillon.txt, test1.log, et test2.log vers temporaire.\n",
    " 4. Copie important/todo.txt vers rapport sous le nom todo backup.txt.\n",
    " 5. Concat`ene les contenus de todo.txt et note1.txt dans un nouveau fichier synthese.txt\n",
    " dans rapport.\n",
    " 6. Affiche le d´ebut de synthese.txt (10 premi`eres lignes).\n",
    " 7. Supprime tous les fichiers dans temporaire qui ont .log.\n",
    " 8. Supprime le dossier temporaire compl`etement apr`es nettoyage.\n",
    " 9. Affiche le chemin absolu de user backup.\n",
    " 10. Liste tout le contenu restant avec arborescence.\n",
    " 11. Comprime le dossier important dans une archive ZIP nomm´ee important backup.zip.\n",
    " 12. Cr´ee un dossier restore/ et extrait l’archive important backup.zip dedans pour v´erifier\n",
    " que la sauvegarde fonctionne.\n"
   ]
  },
  {
   "cell_type": "markdown",
   "id": "6a6f3d3a",
   "metadata": {},
   "source": [
    "### ✅ Correction : "
   ]
  },
  {
   "cell_type": "markdown",
   "id": "54a387a3",
   "metadata": {},
   "source": [
    "`mkdir user_backup`\n",
    "\n",
    "`mkdir user_backup/important`\n",
    "\n",
    "`mkdir user_backup/important/temporaire`\n",
    "\n",
    "`mkdir user_backup/important/temporaire/rapport`\n",
    "\n",
    "ou bien\n",
    "\n",
    "`mkdir user_backup user_backup/important user_backup/important/temporaire user_backup/important/temporaire/rapport`"
   ]
  },
  {
   "cell_type": "markdown",
   "id": "0a8f78ec",
   "metadata": {},
   "source": [
    "1. Crée les fichier : \n",
    "\n",
    "`cd user_backup`\n",
    "\n",
    "puis\n",
    "\n",
    "`touch todo.txt note1.txt brouillon.txt test1.log test2.log`\n"
   ]
  },
  {
   "cell_type": "markdown",
   "id": "74e4ebc4",
   "metadata": {},
   "source": [
    " 2. D´eplace todo.txt et note1.txt vers important : \n",
    " `cd user_backup`\n",
    "\n",
    " rm -rf user_backup\n",
    "\n",
    "`mv todo.txt note1.txt important/`\n",
    "\n"
   ]
  },
  {
   "cell_type": "markdown",
   "id": "c8a05d11",
   "metadata": {},
   "source": [
    "3. D´eplace brouillon.txt, test1.log, et test2.log vers temporaire:\n",
    "\n",
    "`mv brouillon.txt test1.log test2.log important/temporaire/`\n",
    "\n",
    "ou bien \n",
    "\n",
    "`mv brouillon.txt test*.log important/temporaire/`"
   ]
  },
  {
   "cell_type": "markdown",
   "id": "71753f91",
   "metadata": {},
   "source": [
    "4. Copie important/todo.txt vers rapport sous le nom todo backup.txt: \n",
    "\n",
    "`cp important/todo.txt important/temporaire/rapport/todo_backup.txt`\n",
    "\n"
   ]
  },
  {
   "cell_type": "markdown",
   "id": "ee49bea1",
   "metadata": {},
   "source": [
    " 5. Concat`ene les contenus de todo.txt et note1.txt dans un nouveau fichier synthese.txt\n",
    " dans rapport: \n",
    "\n",
    " `cat important/todo.txt important/note1.txt > important/temporaire/rapport/synthese.txt`\n",
    "\n"
   ]
  },
  {
   "cell_type": "markdown",
   "id": "98baf773",
   "metadata": {},
   "source": [
    " 6. Affiche le d´ebut de synthese.txt (10 premi`eres lignes):\n",
    "\n",
    " `head important/temporaire/rapport/synthese.txt`"
   ]
  },
  {
   "cell_type": "markdown",
   "id": "bb1f916c",
   "metadata": {},
   "source": [
    " 7. Supprime tous les fichiers dans temporaire qui ont .log:\n",
    "\n",
    "`rm important/temporaire/*.log` "
   ]
  },
  {
   "cell_type": "markdown",
   "id": "79a7ff22",
   "metadata": {},
   "source": [
    " 8. Supprime le dossier temporaire compl`etement apr`es nettoyage.\n",
    "\n",
    "`rm -r important/temporaire`"
   ]
  },
  {
   "cell_type": "markdown",
   "id": "644b8905",
   "metadata": {},
   "source": [
    " 9. Affiche le chemin absolu de user backup.\n",
    "\n",
    "`pwd`"
   ]
  },
  {
   "cell_type": "markdown",
   "id": "7431caa8",
   "metadata": {},
   "source": [
    "10. Liste tout le contenu restant avec arborescence.\n",
    "\n",
    "`tree`"
   ]
  },
  {
   "cell_type": "markdown",
   "id": "76d13c75",
   "metadata": {},
   "source": [
    " 11. Comprime le dossier important dans une archive ZIP nomm´ee important backup.zip.\n",
    "\n",
    "`zip important_backup.zip important/`"
   ]
  },
  {
   "cell_type": "markdown",
   "id": "f2a5c8ac",
   "metadata": {},
   "source": [
    " 12. Cr´ee un dossier restore/ et extrait l’archive important backup.zip dedans pour v´erifier que la sauvegarde fonctionne.:\n",
    "\n",
    "`mkdir restore`\n",
    "\n",
    "puis \n",
    "\n",
    "`unzip important_backup.zip -d restore/`\n",
    "\n",
    "et puis vérifier avec : \n",
    "\n",
    "`tree`\n",
    " "
   ]
  }
 ],
 "metadata": {
  "language_info": {
   "name": "python"
  }
 },
 "nbformat": 4,
 "nbformat_minor": 5
}
