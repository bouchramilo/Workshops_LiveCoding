{
 "cells": [
  {
   "cell_type": "markdown",
   "id": "2f2a82a2",
   "metadata": {},
   "source": [
    "# Script Shell : "
   ]
  },
  {
   "cell_type": "markdown",
   "id": "723b1da6",
   "metadata": {},
   "source": [
    "Un script shell est un fichier texte contenant une série de commandes Linux exécutables. Il permet d’automatiser des tˆaches répétitives, comme :\n",
    "* Créer des dossiers,\n",
    "* Nettoyer des fichiers,\n",
    "* Surveiller des logs,\n",
    "* Gérer des sauvegardes."
   ]
  },
  {
   "cell_type": "markdown",
   "id": "a7559e1e",
   "metadata": {},
   "source": [
    "1. Créer un fichier : `touch script.sh`"
   ]
  },
  {
   "cell_type": "markdown",
   "id": "48b5e84a",
   "metadata": {},
   "source": [
    "2. Éditer avec `vi`, `nano` ou un éditeur Windows : `nano script.sh` et `vi script.sh`"
   ]
  },
  {
   "cell_type": "markdown",
   "id": "40540757",
   "metadata": {},
   "source": [
    "3. Ajouter le shebang en première ligne : \n",
    "\n",
    "`#!/bin/bash`"
   ]
  },
  {
   "cell_type": "markdown",
   "id": "7bc4f741",
   "metadata": {},
   "source": [
    "🧷 Exemples de commandes fréquentes"
   ]
  },
  {
   "cell_type": "markdown",
   "id": "854c3a92",
   "metadata": {},
   "source": [
    "{\n",
    "    \n",
    "    echo \"Hello World\"           # Affiche un message\n",
    "    read -p \"Votre nom : \" nom   # Demande une saisie utilisateur\n",
    "    mkdir -p dossier/sousdossier # Créer dossier(s)\n",
    "    ls -1 dossier | wc -l        # Compter fichiers\n",
    "    for i in {1..10}; do ...; done  # Boucle\n",
    "\n",
    "}"
   ]
  },
  {
   "cell_type": "markdown",
   "id": "0674d764",
   "metadata": {},
   "source": [
    "4. Autorisations et exécution : \n",
    "\n",
    "* Rendre le script exécutable :\n",
    "`chmod +x script.sh`\n",
    "\n",
    "* Lancer le script :\n",
    "`./script.sh`"
   ]
  },
  {
   "cell_type": "markdown",
   "id": "9b3d008a",
   "metadata": {},
   "source": [
    "## Challenge 4 : "
   ]
  },
  {
   "cell_type": "markdown",
   "id": "9b5e4e54",
   "metadata": {},
   "source": [
    "Cr´eer un script Bash qui :\n",
    " 1. Demande le nom de l’utilisateur.\n",
    " 2. Affiche un message de bienvenue personnalis´e.\n",
    " 3. Affiche le nom de l’utilisateur actuellement connect´e.\n",
    " 4. Donner les autorisations d’ex´ecution au script bash."
   ]
  },
  {
   "cell_type": "markdown",
   "id": "c1dce368",
   "metadata": {},
   "source": [
    "### ✅ correction : "
   ]
  },
  {
   "cell_type": "markdown",
   "id": "99f008e3",
   "metadata": {},
   "source": [
    "* Créer un fichier hello.sh : \n",
    "\n",
    "`touch hello.sh`\n",
    "\n",
    "* Pour ecrire dans ce fichier , on execute la commande `vi hello.sh`, puis on tape `i` (pour l'insertion) , et on ajoute le code de script . puis , pour sauvegarder , on clique sur \"échap\" puis on tape `:wq`."
   ]
  },
  {
   "cell_type": "markdown",
   "id": "f8541935",
   "metadata": {},
   "source": [
    "1. Demande le nom de l’utilisateur.\n",
    "2. Affiche un message de bienvenue personnalis´e.\n",
    "3. Affiche le nom de l’utilisateur actuellement connect´e."
   ]
  },
  {
   "cell_type": "markdown",
   "id": "3acf7909",
   "metadata": {},
   "source": [
    "<div style=\"background-color : #575148ab;\">\n",
    "#!/bin/bash\n",
    "\n",
    "read -p \"Entrez votre nom : \" nom\n",
    "\n",
    "echo \"Bienvenue, $nom !\"\n",
    "\n",
    "echo \"Vous êtes connecté en tant que : $(whoami)\"\n",
    "</div>"
   ]
  },
  {
   "cell_type": "markdown",
   "id": "6d0fbba5",
   "metadata": {},
   "source": [
    "4. Donner les autorisations d’ex´ecution au script bash.\n"
   ]
  },
  {
   "cell_type": "markdown",
   "id": "e5195276",
   "metadata": {},
   "source": [
    "`chmod +x hello.sh`"
   ]
  },
  {
   "cell_type": "markdown",
   "id": "064662d8",
   "metadata": {},
   "source": [
    "* Executer le script : "
   ]
  },
  {
   "cell_type": "markdown",
   "id": "834a009c",
   "metadata": {},
   "source": [
    "`./hello.sh`"
   ]
  },
  {
   "cell_type": "markdown",
   "id": "bdfbad32",
   "metadata": {},
   "source": [
    "## Challenge 5 : "
   ]
  },
  {
   "cell_type": "markdown",
   "id": "0b0e75e4",
   "metadata": {},
   "source": [
    "Crée un script Bash qui réalise automatiquement les opérations suivantes :\n",
    "1. Créer un dossier principal nommé mon projet, contenant trois sous-dossiers : documents, logs et sauvegardes.\n",
    "2. Générer un fichier de log nommé logdata.txt dans le dossier logs, contenant les nombres de 1 à 50 (un nombre par ligne).\n",
    "3. Générer deux fichiers texte : fichierA.txt contenant la ligne ”contenu du fichier A” dans mon projet/documents/, et fichierB.txt contenant la ligne ”Contenu du fichier B” dans mon projet/documents/\n",
    "4. Générer un fichier rapport date.txt (ex. rapport 2025-06-25.txt) dans le dossier mon projet, contenant : La date de génération, Le nombre de fichiers présents dans documents et Le nombre de fichiers présents dans logs"
   ]
  },
  {
   "cell_type": "markdown",
   "id": "67b6e616",
   "metadata": {},
   "source": [
    "### ✅ Correction : "
   ]
  },
  {
   "cell_type": "markdown",
   "id": "719bde6a",
   "metadata": {},
   "source": [
    "1. Créer un dossier principal nommé mon projet, contenant trois sous-dossiers : documents, logs et sauvegardes."
   ]
  },
  {
   "cell_type": "markdown",
   "id": "35031315",
   "metadata": {},
   "source": [
    "`mkdir mon_projet mon_projet/documents mon_projet/logs mon_projet/sauvegardes`"
   ]
  },
  {
   "cell_type": "markdown",
   "id": "48e966a9",
   "metadata": {},
   "source": [
    "(La solution dans le fichier script.sh)"
   ]
  },
  {
   "cell_type": "markdown",
   "id": "c415c237",
   "metadata": {},
   "source": []
  }
 ],
 "metadata": {
  "language_info": {
   "name": "python"
  }
 },
 "nbformat": 4,
 "nbformat_minor": 5
}
