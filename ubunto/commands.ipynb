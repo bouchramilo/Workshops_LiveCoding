{
 "cells": [
  {
   "cell_type": "markdown",
   "id": "a13ae3e9",
   "metadata": {},
   "source": [
    "La commande zip sous Linux permet de compresser des fichiers ou dossiers dans une archive .zip."
   ]
  },
  {
   "cell_type": "markdown",
   "id": "1afb47e8",
   "metadata": {},
   "source": [
    "`zip [options] nom_archive.zip fichiers_ou_dossiers`"
   ]
  },
  {
   "cell_type": "markdown",
   "id": "d87d0651",
   "metadata": {},
   "source": [
    "- 1 : Compresser un seul fichier : "
   ]
  },
  {
   "cell_type": "markdown",
   "id": "f019fbfa",
   "metadata": {},
   "source": [
    "`zip archive.zip fichier.txt`"
   ]
  },
  {
   "cell_type": "markdown",
   "id": "40a9e187",
   "metadata": {},
   "source": [
    "- 2 : Compresser plusieurs fichiers :\n",
    "\n",
    "`zip archive.zip fichier1.txt fichier2.txt fichier3.txt`"
   ]
  },
  {
   "cell_type": "markdown",
   "id": "7c521703",
   "metadata": {},
   "source": []
  },
  {
   "cell_type": "markdown",
   "id": "69703863",
   "metadata": {},
   "source": [
    "- 3 : Compresser un dossier entier (avec récursivité) :\n",
    "\n",
    "`zip -r archive.zip mon_dossier/`"
   ]
  },
  {
   "cell_type": "markdown",
   "id": "b9897564",
   "metadata": {},
   "source": [
    "- Options courantes :\n",
    "\n",
    "-r → compression récursive (pour les dossiers).\n",
    "\n",
    "-e → crypter l’archive avec mot de passe.\n",
    "\n",
    "-9 → meilleure compression (niveau max).\n",
    "\n",
    "-q → mode silencieux (pas d’affichage des détails).\n",
    "\n",
    "-u → mettre à jour l’archive avec de nouveaux fichiers.\n",
    "\n",
    "-d → supprimer un fichier d’une archive existante."
   ]
  },
  {
   "cell_type": "markdown",
   "id": "6d5334b7",
   "metadata": {},
   "source": [
    "# "
   ]
  }
 ],
 "metadata": {
  "language_info": {
   "name": "python"
  }
 },
 "nbformat": 4,
 "nbformat_minor": 5
}
