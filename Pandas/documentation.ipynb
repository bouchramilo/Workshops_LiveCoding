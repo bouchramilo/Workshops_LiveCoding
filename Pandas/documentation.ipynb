{
 "cells": [
  {
   "cell_type": "markdown",
   "id": "b6a351a7",
   "metadata": {},
   "source": [
    "# iloc\n"
   ]
  },
  {
   "cell_type": "markdown",
   "id": "cf782c1f",
   "metadata": {},
   "source": [
    "`.iloc[]` → basé sur les positions (indices numériques)\n",
    "\n",
    "👉 On l’utilise quand on veut accéder aux valeurs par leur position (comme dans une liste Python)."
   ]
  },
  {
   "cell_type": "markdown",
   "id": "b40d31a7",
   "metadata": {},
   "source": [
    "Syntaxe : \n",
    "`df.iloc[ligne(s), colonne(s)]`\n"
   ]
  },
  {
   "cell_type": "markdown",
   "id": "0d8085dc",
   "metadata": {},
   "source": [
    "* exemples\n",
    "  "
   ]
  },
  {
   "cell_type": "code",
   "execution_count": null,
   "id": "71077344",
   "metadata": {},
   "outputs": [],
   "source": [
    "# Première ligne\n",
    "df.iloc[0]\n",
    "\n",
    "# Lignes 0 à 2 (attention : fin exclue)\n",
    "df.iloc[0:3]\n",
    "\n",
    "# 1ère ligne, 2ème colonne\n",
    "df.iloc[0, 1]\n",
    "\n",
    "# Plusieurs colonnes par position\n",
    "df.iloc[:, [2, 4, 5]]\n",
    "\n"
   ]
  },
  {
   "cell_type": "markdown",
   "id": "ecd1403a",
   "metadata": {},
   "source": [
    "# loc"
   ]
  },
  {
   "cell_type": "markdown",
   "id": "7c6f2dd1",
   "metadata": {},
   "source": [
    "`.loc[]` → basé sur les étiquettes (labels)\n",
    "\n",
    "👉 On l’utilise quand on veut accéder aux valeurs en fonction du nom de ligne ou de colonne."
   ]
  },
  {
   "cell_type": "markdown",
   "id": "b7846508",
   "metadata": {},
   "source": [
    "Syntaxe : `df.loc[ligne(s), colonne(s)]`"
   ]
  },
  {
   "cell_type": "markdown",
   "id": "dca80949",
   "metadata": {},
   "source": [
    "* exemples : "
   ]
  },
  {
   "cell_type": "code",
   "execution_count": null,
   "id": "f84d9976",
   "metadata": {},
   "outputs": [],
   "source": [
    "# Sélectionner une ligne par son label (index)\n",
    "df.loc[3]\n",
    "\n",
    "# Sélectionner plusieurs lignes\n",
    "df.loc[[2, 5, 7]]\n",
    "\n",
    "# Sélectionner par condition\n",
    "df.loc[df['Department'] == 'IT']\n",
    "\n",
    "# Sélectionner une ligne et une colonne\n",
    "df.loc[3, 'Name']\n",
    "\n",
    "# Sélectionner plusieurs colonnes\n",
    "df.loc[:, ['Name', 'Salary']]\n"
   ]
  }
 ],
 "metadata": {
  "kernelspec": {
   "display_name": "Python 3",
   "language": "python",
   "name": "python3"
  },
  "language_info": {
   "name": "python",
   "version": "3.13.7"
  }
 },
 "nbformat": 4,
 "nbformat_minor": 5
}
